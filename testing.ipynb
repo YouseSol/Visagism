{
 "cells": [
  {
   "cell_type": "code",
   "execution_count": 2,
   "metadata": {},
   "outputs": [],
   "source": [
    "from newspaper import Article"
   ]
  },
  {
   "cell_type": "code",
   "execution_count": 5,
   "metadata": {},
   "outputs": [],
   "source": [
    "url = \"https://barbeirovisagistadf.com.br/visagismo-masculino-guia-completo/\"\n",
    "article = Article(url)"
   ]
  },
  {
   "cell_type": "code",
   "execution_count": 6,
   "metadata": {},
   "outputs": [],
   "source": [
    "article.download()\n",
    "article.parse()"
   ]
  },
  {
   "cell_type": "code",
   "execution_count": 7,
   "metadata": {},
   "outputs": [
    {
     "data": {
      "text/plain": [
       "'Visagismo masculino é uma técnica que pode ajudar homens a melhorarem sua aparência e autoestima. O termo “visagismo” vem da palavra francesa “visage”, que significa rosto, e se refere ao estudo dos formatos de rostos para identificar pontos fortes e fracos que podem ser realçados ou disfarçados por meio de cortes de cabelo, maquiagem, design de sobrancelhas, entre outros recursos.\\n\\nO visagismo masculino é uma variação dessa técnica que se concentra especificamente nos rostos masculinos. Ele permite que os homens adaptem sua aparência para refletir melhor sua personalidade e estilo, destacando seus pontos fortes e minimizando os pontos fracos. Isso pode ser especialmente útil para homens que desejam se destacar em sua carreira ou vida social.\\n\\nAo utilizar o visagismo masculino, é importante que os homens trabalhem com um profissional qualificado e experiente. O visagista pode ajudar a identificar as características únicas do rosto do homem e criar um visual personalizado que reflita sua personalidade e estilo. Com as técnicas certas, o visagismo masculino pode ser uma poderosa ferramenta para melhorar a aparência e autoestima dos homens.\\n\\nO Que é Visagismo Masculino\\n\\nVisagismo é uma técnica que visa criar uma imagem pessoal harmônica e coerente com a personalidade de cada indivíduo. É uma variação da palavra visage, de origem francesa, que significa rosto. Para os homens, o visagismo masculino é uma técnica que estuda os formatos de rostos masculinos e que pode ser usada para melhorar os pontos fortes e disfarçar os fracos.\\n\\nNo visagismo masculino, é importante considerar as características físicas e psicológicas do homem para criar uma imagem que reflita sua personalidade e estilo de vida. Isso inclui a análise do formato do rosto, cor da pele, tipo de cabelo, entre outros fatores.\\n\\nO objetivo do visagismo masculino é encontrar o melhor corte de cabelo, barba e bigode para cada homem, levando em conta as suas características físicas e o seu estilo de vida. Além disso, a consultoria de visagismo pode ajudar os homens a escolherem as roupas e acessórios que mais combinam com o seu estilo.\\n\\nHoje em dia, é possível encontrar serviços de visagismo online, que permitem que os homens façam uma análise do seu rosto e recebam orientações sobre o melhor corte de cabelo, barba e bigode para o seu rosto. Esses serviços de visagismo online podem ser uma ótima opção para quem não tem tempo ou não quer ir a um salão de beleza para receber uma consultoria de visagismo.\\n\\nA Importância do Formato do Rosto\\n\\nO formato do rosto é uma das características mais importantes a serem consideradas no visagismo masculino. Cada formato de rosto tem suas próprias características e, portanto, requerem diferentes abordagens para aprimorar a aparência masculina.\\n\\nRosto Redondo\\n\\nO rosto redondo é caracterizado por bochechas arredondadas e uma linha da mandíbula pouco definida. Para equilibrar as proporções do rosto redondo, é recomendado que o corte de cabelo seja mais curto nas laterais e mais longo no topo. Isso ajuda a alongar o rosto e acentuar a linha da mandíbula.\\n\\nRosto Oval\\n\\nO rosto oval é considerado o formato de rosto mais simétrico e equilibrado. Para realçar a beleza do rosto oval, é recomendado que o corte de cabelo seja mais curto nas laterais e mais longo no topo. Este corte de cabelo ajuda a manter as proporções equilibradas e acentua as características naturais do rosto oval.\\n\\nRosto Quadrado\\n\\nO rosto quadrado é caracterizado por uma linha da mandíbula forte e angular. Para realçar a beleza do rosto quadrado, é recomendado que o corte de cabelo seja mais curto nas laterais e mais longo no topo. Isso ajuda a manter as proporções equilibradas e acentua as características naturais do rosto quadrado.\\n\\nRosto Triangular\\n\\nO rosto triangular é caracterizado por uma testa larga e uma linha da mandíbula estreita. Para equilibrar as proporções do rosto triangular, é recomendado que o corte de cabelo seja mais longo nas laterais e mais curto no topo. Isso ajuda a suavizar as características do rosto triangular e acentuar a linha da mandíbula.\\n\\nRosto Retangular\\n\\nO rosto retangular é caracterizado por uma testa larga e uma linha da mandíbula quadrada. Para equilibrar as proporções do rosto retangular, é recomendado que o corte de cabelo seja mais longo nas laterais e mais curto no topo. Isso ajuda a suavizar as características do rosto retangular e acentuar a linha da mandíbula.\\n\\nRosto Diamante\\n\\nO rosto diamante é caracterizado por uma testa estreita e uma linha da mandíbula estreita. Para equilibrar as proporções do rosto diamante, é recomendado que o corte de cabelo seja mais longo nas laterais e mais curto no topo. Isso ajuda a suavizar as características do rosto diamante e acentuar a linha da mandíbula.\\n\\nEm resumo, o formato do rosto é uma característica importante a ser considerada no visagismo masculino. Cada formato de rosto requer uma abordagem diferente para realçar a beleza masculina. Ao escolher o corte de cabelo e outros aspectos do visual, é importante considerar as proporções do rosto, incluindo a testa, o queixo, a mandíbula e as bochechas, bem como o nariz e outros traços faciais.\\n\\nPersonalidade e Visagismo\\n\\nO Visagismo Masculino é uma técnica que estuda os formatos de rostos e que podem ser usadas para melhorar os pontos fortes e disfarçar os fracos. Para isso, é realizado um estudo das características físicas e psicológicas da pessoa, incluindo sua personalidade e autoestima.\\n\\nA personalidade de um indivíduo é um dos fatores mais importantes a serem considerados ao aplicar o Visagismo Masculino. Cada pessoa tem um conjunto único de traços de personalidade, que podem ser expressos através de características físicas, como o corte de cabelo, a barba ou o estilo de roupa.\\n\\nO Visagismo Masculino pode ajudar a melhorar a autoestima de um homem, permitindo que ele se sinta mais confiante e confortável em sua própria pele. Ao escolher o corte de cabelo ou a barba certos, por exemplo, um homem pode realçar suas melhores características e esconder aquelas que ele não gosta tanto.\\n\\nAlém disso, o Visagismo Masculino também pode levar em consideração os arquétipos de personalidade, que são padrões universais de comportamento que podem ser encontrados em todas as culturas. Existem quatro tipos principais de arquétipos de personalidade: sanguínea, fleumática, colérica e melancólica.\\n\\nCada tipo de arquétipo de personalidade tem suas próprias características e traços físicos correspondentes. Por exemplo, uma pessoa com um tipo sanguíneo pode ser mais extrovertida e ter uma aparência mais jovial, enquanto uma pessoa com um tipo melancólico pode ser mais introvertida e ter uma aparência mais séria.\\n\\nAo considerar a personalidade e os arquétipos de personalidade de um homem, o Visagismo Masculino pode ajudá-lo a criar uma imagem que reflita sua verdadeira personalidade e estilo de vida. Isso pode ajudar a melhorar sua autoestima e confiança, permitindo que ele se sinta mais confortável em sua própria pele.\\n\\nTécnicas de Visagismo\\n\\nO Visagismo é uma técnica que visa valorizar a beleza de um rosto, levando em consideração as características físicas e psicológicas da pessoa. Existem diversas técnicas de Visagismo, que podem ser utilizadas por visagistas, cabeleireiros, barbeiros e outros profissionais da área da beleza.\\n\\nUma das técnicas mais utilizadas é a análise das linhas e formas do rosto, que permite identificar pontos fortes e fracos e propor cortes de cabelo, barba e sobrancelha que valorizem as características do rosto. Outra técnica é a análise das cores, que permite identificar as cores que mais combinam com a pele, cabelo e olhos da pessoa.\\n\\nAlém disso, existem diversas opções de cortes de cabelo e barba que podem ser utilizados para valorizar as características do rosto. Por exemplo, um rosto quadrado pode ser valorizado com um corte de cabelo curto nas laterais e mais comprido no topo, enquanto um rosto redondo pode ser valorizado com um corte de cabelo com volume no topo e laterais mais curtas.\\n\\nPara os profissionais que desejam se especializar em Visagismo, existem diversos cursos disponíveis, que ensinam as técnicas de análise do rosto, cores e cortes de cabelo e barba. Com esses cursos, é possível se tornar um visagista profissional e oferecer serviços de alta qualidade aos clientes.\\n\\nVisagismo e Corte de Cabelo\\n\\nO visagismo pode ser uma ótima ferramenta para ajudar os homens a escolherem o corte de cabelo ideal para eles. A técnica leva em conta as características físicas e psicológicas da pessoa para encontrar o corte que melhor se adapta a ela.\\n\\nPara começar, é importante entender que cada tipo de rosto tem suas próprias características e, portanto, pode se beneficiar de diferentes tipos de cortes de cabelo. Por exemplo, um rosto redondo pode se beneficiar de um corte mais angular, enquanto um rosto quadrado pode ficar melhor com um corte mais suave.\\n\\nAlém disso, o visagismo também leva em conta a personalidade e o estilo de vida da pessoa. Por exemplo, se alguém tem um trabalho mais formal, pode ser melhor optar por um corte mais conservador, enquanto alguém com um estilo de vida mais descontraído pode se beneficiar de um corte mais moderno e despojado.\\n\\nÉ importante lembrar que o corte de cabelo certo pode fazer uma grande diferença na aparência geral de uma pessoa. Por isso, é sempre recomendável procurar um profissional qualificado em visagismo masculino para ajudá-lo a encontrar o corte de cabelo perfeito para você.\\n\\nNo entanto, é importante lembrar que o visagismo é apenas uma ferramenta. No final do dia, é você quem deve se sentir confortável e confiante com o seu corte de cabelo.\\n\\nVisagismo e Barba\\n\\nA barba é um elemento importante na aparência masculina e pode ser utilizada para criar diferentes estilos e expressões. O visagismo masculino leva em consideração o formato do rosto e suas características para definir qual estilo de barba é mais adequado para cada pessoa.\\n\\nPara homens com rostos mais arredondados, por exemplo, uma barba cheia pode ajudar a alongar o rosto e criar uma aparência mais definida. Já para homens com rostos mais angulares, uma barba mais curta pode ajudar a suavizar as linhas do rosto.\\n\\nAlém disso, o visagismo também leva em consideração a personalidade e o estilo de vida do homem. Por exemplo, um homem que trabalha em um ambiente mais formal pode optar por uma barba mais curta e bem cuidada, enquanto um homem mais descontraído pode preferir uma barba mais cheia e despojada.\\n\\nOutro elemento importante a ser considerado é o bigode. O visagismo pode ajudar a definir qual estilo de bigode é mais adequado para cada rosto e estilo de vida. Um bigode mais fino e discreto pode ser mais adequado para um homem com um rosto mais delicado, enquanto um bigode mais cheio e volumoso pode ser mais adequado para um homem com um rosto mais robusto.\\n\\nEm resumo, o visagismo pode ser uma ferramenta útil para ajudar os homens a escolherem o estilo de barba e bigode que melhor se adequa ao seu rosto, personalidade e estilo de vida.\\n\\nVisagismo e Sobrancelha\\n\\nO visagismo é uma técnica que visa valorizar a beleza de um rosto. Para isso, é necessário realizar um estudo das características físicas e psicológicas da pessoa. Entre as práticas adotadas dentro do visagismo, está o design de sobrancelhas.\\n\\nO design de sobrancelhas é uma técnica que consiste em modelar as sobrancelhas de acordo com o formato do rosto, a fim de ressaltar a beleza dos olhos e tornar o olhar mais profundo. Para isso, é necessário seguir algumas técnicas de visagismo.\\n\\nO formato da sobrancelha deve ser escolhido de acordo com o formato do rosto. Por exemplo, se a pessoa tem o rosto quadrado, a sobrancelha deve ser arredondada para suavizar as linhas do rosto. Já se a pessoa tem o rosto redondo, a sobrancelha deve ser mais angular para dar a sensação de alongamento.\\n\\nAlém disso, é importante escolher a cor da sobrancelha de acordo com a cor do cabelo e da pele. A sobrancelha não deve ser muito mais escura ou mais clara que o cabelo, para não criar um contraste muito grande.\\n\\nPor fim, é importante lembrar que a sobrancelha deve ser modelada de acordo com as características pessoais de cada um. O objetivo é ressaltar a beleza natural da pessoa, não criar um padrão artificial.\\n\\nVisagismo Masculino na Maquiagem\\n\\nO visagismo na maquiagem é uma técnica que utiliza as características físicas e psicológicas de um indivíduo para criar uma imagem harmônica e equilibrada. Para aplicar o visagismo na maquiagem masculina, é importante levar em consideração a cor da pele, os tons de pele, a cor do cabelo e a textura do cabelo do indivíduo.\\n\\nA cor da pele é um dos elementos mais importantes no visagismo na maquiagem. É importante escolher a base e os corretivos corretos para obter um resultado natural e harmônico. Para indivíduos com pele clara, é recomendado o uso de bases e corretivos com tons mais claros. Para indivíduos com pele escura, é recomendado o uso de bases e corretivos com tons mais escuros.\\n\\nOs tons de pele também são importantes no visagismo na maquiagem. É importante escolher as cores de sombras, delineadores e batons que combinem com o tom de pele do indivíduo. Para indivíduos com tons de pele mais quentes, é recomendado o uso de cores mais quentes, como laranja, dourado e marrom. Para indivíduos com tons de pele mais frios, é recomendado o uso de cores mais frias, como rosa, roxo e azul.\\n\\nA cor do cabelo também pode influenciar no visagismo na maquiagem masculina. É importante escolher as cores de sombras, delineadores e batons que combinem com a cor do cabelo do indivíduo. Para indivíduos com cabelos escuros, é recomendado o uso de cores mais escuras, como preto, cinza e marrom. Para indivíduos com cabelos claros, é recomendado o uso de cores mais claras, como branco, bege e rosa.\\n\\nA textura do cabelo também é importante no visagismo na maquiagem masculina. É importante escolher as cores de sombras, delineadores e batons que combinem com a textura do cabelo do indivíduo. Para indivíduos com cabelos lisos, é recomendado o uso de cores mais suaves, como rosa e azul. Para indivíduos com cabelos cacheados, é recomendado o uso de cores mais fortes, como vermelho e roxo.\\n\\nEm resumo, o visagismo na maquiagem masculina é uma técnica que utiliza as características físicas e psicológicas de um indivíduo para criar uma imagem harmônica e equilibrada. É importante levar em consideração a cor da pele, os tons de pele, a cor do cabelo e a textura do cabelo do indivíduo para obter um resultado natural e harmônico.\\n\\nVisagismo e Imagem Pessoal\\n\\nO Visagismo é uma técnica que estuda os formatos de rostos e que podem ser usadas para melhorar os pontos fortes e disfarçar os fracos. É uma variação da palavra visage, de origem francesa, que significa rosto. Tendo consciência disso, a técnica de visagismo visa aperfeiçoar a imagem que você passa para o mundo, seja através da maquiagem, do corte de cabelo ou das roupas que você usa.\\n\\nA imagem pessoal é muito importante, pois ela é a primeira impressão que você passa para as pessoas que te veem. Por isso, é fundamental que você saiba como se apresentar de forma adequada, para que possa passar a mensagem correta sobre si mesmo. O visagismo pode ser uma grande aliado nesse processo, pois ele ajuda a criar um look ideal, que combine com a personalidade e com as características físicas de cada pessoa.\\n\\nQuando falamos em imagem pessoal, as roupas também são muito importantes. Elas podem transmitir muitas coisas sobre uma pessoa, como profissionalismo, elegância, descontração, entre outras. Por isso, é fundamental escolher as roupas certas para cada ocasião, levando em consideração o seu estilo pessoal e as características do seu corpo.\\n\\nEm resumo, o Visagismo é uma técnica que pode ser utilizada para melhorar a sua imagem pessoal, seja através do corte de cabelo, da maquiagem ou das roupas que você usa. Ele ajuda a criar um look ideal, que combine com a sua personalidade e com as suas características físicas. Por isso, se você quer causar uma boa impressão, invista no Visagismo e na sua imagem pessoal.\\n\\nVisagismo masculino e Cosméticos\\n\\nO visagismo masculino é uma técnica que pode ser utilizada para melhorar a aparência e autoestima dos homens. Uma das práticas adotadas dentro do visagismo é o uso de cosméticos, como cremes, loções e géis, que podem ajudar a realçar a beleza própria de cada rosto.\\n\\nOs cosméticos podem ser usados para hidratar a pele, prevenir rugas e linhas de expressão, clarear manchas e uniformizar o tom de pele. Alguns produtos também podem ser usados para melhorar a aparência da barba e do cabelo.\\n\\nNo entanto, é importante escolher os cosméticos corretos para cada tipo de pele e necessidade. Por isso, é recomendado que se consulte um profissional especializado em visagismo masculino para orientação na escolha dos produtos mais adequados.\\n\\nAlém disso, é importante lembrar que o uso excessivo de cosméticos pode ser prejudicial à saúde da pele e cabelo. Por isso, é recomendado que se siga as instruções de uso dos produtos e que se faça uma pausa no uso de cosméticos de vez em quando para permitir que a pele e cabelo respirem e se recuperem.\\n\\nEm resumo, o uso de cosméticos pode ser uma excelente forma de realçar a beleza própria de cada rosto masculino, mas é importante escolher os produtos corretos e usá-los com moderação e cuidado.\\n\\nVisagismo e sua influência na Profissão\\n\\nO visagismo tem se tornado cada vez mais popular em profissões que envolvem a estética e a beleza, como em salões de beleza e barbearias. Isso porque a técnica permite que o profissional possa entender melhor as características e necessidades de cada cliente, oferecendo assim um serviço mais personalizado e eficiente.\\n\\nAo utilizar o visagismo, o profissional consegue identificar o formato do rosto do cliente, a cor da pele, o tipo de cabelo, entre outras características que são fundamentais para a escolha do corte de cabelo, da maquiagem e da barba ideal. Dessa forma, é possível criar um visual que harmonize com as características físicas e pessoais do cliente, valorizando sua beleza natural.\\n\\nAlém disso, o visagismo também influencia a profissão ao permitir que o profissional possa oferecer um serviço completo, que vai além do corte de cabelo ou da barba. Com a técnica, é possível oferecer serviços de coloração, maquiagem, design de sobrancelhas, entre outros, que complementam o visual do cliente.\\n\\nPor fim, o visagismo também influencia a profissão ao permitir que o profissional possa se destacar no mercado, oferecendo um serviço diferenciado e de qualidade. Isso porque a técnica exige um conhecimento aprofundado sobre as características físicas e pessoais do cliente, além de um olhar atento e criativo para criar um visual que valorize sua beleza natural.\\n\\nEm resumo, o visagismo tem uma influência significativa na profissão, permitindo que o profissional possa oferecer um serviço mais personalizado, completo e de qualidade, além de se destacar no mercado.\\n\\nConclusão\\n\\nO Visagismo Masculino é uma técnica que estuda os formatos de rostos e que pode ser utilizada para melhorar os pontos fortes e disfarçar os fracos. Com essa técnica, é possível criar uma imagem pessoal harmônica e coerente com a personalidade e estilo de vida do indivíduo.\\n\\nAo adequar o corte de cabelo, a barba e o estilo de roupa ao formato do rosto, é possível criar uma aparência marcante e única. Além disso, o visagismo também pode ser utilizado para realçar as qualidades e atenuar os aspectos negativos de uma pessoa.\\n\\nPara utilizar o visagismo masculino de forma eficiente, é importante ter consciência dos pontos fortes e fracos do rosto e buscar um profissional qualificado para realizar o serviço. Com essa técnica, é possível criar uma imagem pessoal positiva e coerente com a personalidade, valores pessoais e estilo de vida.\\n\\nPerguntas Frequentes\\n\\nOnde encontrar consultoria de visagismo masculino?\\n\\nExistem diversos profissionais que oferecem consultoria de visagismo masculino, como cabeleireiros, barbeiros, esteticistas e visagistas especializados. É possível encontrar esses profissionais em salões de beleza, barbearias, clínicas de estética e consultórios particulares.\\n\\nQuais são os elementos analisados no estudo do visagismo para o público masculino?\\n\\nNo estudo do visagismo para o público masculino, são analisados diversos elementos, como o formato do rosto, a textura e a cor do cabelo, a barba e o bigode, a cor dos olhos e a personalidade do cliente. Com base nessas informações, o visagista pode propor um corte de cabelo, um estilo de barba e uma maquiagem que valorizem os pontos fortes do cliente e disfarcem os pontos fracos.\\n\\nComo utilizar o visagismo masculino para valorizar o rosto oval?\\n\\nPara valorizar o rosto oval com o visagismo masculino, é importante escolher um corte de cabelo que não acentue a forma oval do rosto. Por exemplo, um corte de cabelo com franja pode ajudar a disfarçar a testa alta e a suavizar as linhas do rosto. Além disso, é importante escolher uma barba que equilibre as proporções do rosto, como uma barba mais curta nas laterais e mais cheia no queixo.\\n\\nQuais os cinco elementos do visagismo masculino?\\n\\nOs cinco elementos do visagismo masculino são: corte de cabelo, barba, bigode, maquiagem e estilo de roupa. Cada um desses elementos é analisado de acordo com o formato do rosto, a textura e a cor do cabelo, a personalidade do cliente e o estilo de vida.\\n\\nQual a importância do visagismo masculino na construção da imagem pessoal?\\n\\nO visagismo masculino é importante na construção da imagem pessoal porque ajuda a valorizar os pontos fortes do cliente e a disfarçar os pontos fracos. Com um corte de cabelo, uma barba e uma maquiagem que combinem com o formato do rosto e a personalidade do cliente, é possível transmitir uma imagem mais confiante, profissional e atraente.\\n\\nComo aplicar o visagismo masculino na barba e no cabelo?\\n\\nPara aplicar o visagismo masculino na barba e no cabelo, é importante escolher um profissional especializado em visagismo masculino e fazer uma consulta para analisar o formato do rosto, a textura e a cor do cabelo e a personalidade do cliente. Com base nessas informações, o visagista pode propor um corte de cabelo e uma barba que valorizem os pontos fortes do cliente e disfarcem os pontos fracos.\\n\\nOnde trabalha um visagista?\\n\\nUm visagista pode trabalhar em salões de beleza, barbearias, clínicas de estética, consultórios particulares e até mesmo em produções de cinema e televisão.\\n\\nQuanto custa uma consulta com visagismo?\\n\\nO valor de uma consulta com visagismo pode variar de acordo com o profissional escolhido, a região e a complexidade do serviço. É importante pesquisar e comparar os preços antes de escolher um profissional.\\n\\nComo estudar o visagismo?\\n\\nPara estudar o visagismo, é possível fazer cursos livres ou de graduação em áreas como estética, cabelo e maquiagem. Além disso, é importante estudar anatomia facial, psicologia e tendências de moda para entender como esses elementos influenciam o visagismo.\\n\\nConclusão\\n\\nO visagismo masculino é uma técnica que visa valorizar a beleza do rosto masculino, levando em consideração as características físicas e psicológicas da pessoa. Com o uso do visagismo, é possível aperfeiçoar a imagem pessoal, criando uma aparência harmônica e coerente com a personalidade e estilo de vida do indivíduo.\\n\\nAo aplicar as técnicas de visagismo, é possível disfarçar pontos fracos e realçar pontos fortes do rosto masculino, seja por meio do corte de cabelo, da barba, da maquiagem ou de outros recursos. Além disso, o visagismo pode ser utilizado para transmitir uma mensagem específica, como uma imagem de autoridade, de sofisticação ou de descontração.\\n\\nNo entanto, é importante lembrar que o visagismo não deve ser utilizado de forma exagerada ou artificial, mas sim como uma ferramenta para realçar a beleza natural do rosto masculino. O resultado final deve ser uma imagem pessoal única e marcante, que reflita a personalidade e o estilo de vida do indivíduo.'"
      ]
     },
     "execution_count": 7,
     "metadata": {},
     "output_type": "execute_result"
    }
   ],
   "source": [
    "article.text"
   ]
  },
  {
   "cell_type": "code",
   "execution_count": 10,
   "metadata": {},
   "outputs": [],
   "source": [
    "import google.generativeai as genai\n",
    "import pickle as pkl\n",
    "import os\n",
    "\n",
    "\n",
    "class Gemini:\n",
    "    def __init__(self,\n",
    "                 api_key: str = \"\",\n",
    "                 model_version: str = \"gemini-pro\"):\n",
    "        \n",
    "        self.api_key = api_key\n",
    "        self.model_version = model_version\n",
    "\n",
    "        self._create_model()\n",
    "\n",
    "    \n",
    "    def _create_model(self):\n",
    "\n",
    "        try:\n",
    "            genai.configure(api_key=self.api_key)\n",
    "            self.model = genai.GenerativeModel(self.model_version)\n",
    "\n",
    "        except Exception as e:\n",
    "            print(f\"It was no possible access gemini model in charge model. ERROR: {str(e)}\")\n",
    "\n",
    "\n",
    "    def send_message(self, message, temperature=1.0):  \n",
    "        try:\n",
    "\n",
    "            response = self.model.generate_content(message, generation_config=genai.types.GenerationConfig(temperature=temperature))\n",
    "            \n",
    "            print(f\"Message was created!\")\n",
    "        except Exception as e:\n",
    "            print(f\"It was no possible access gemini model in send message. ERROR: {str(e)}\")\n",
    "            return False\n",
    "        \n",
    "        print(f\"Document was generated by {self.model_version}\")\n",
    "        \n",
    "        return response.text\n",
    "    \n"
   ]
  },
  {
   "cell_type": "code",
   "execution_count": 11,
   "metadata": {},
   "outputs": [
    {
     "name": "stdout",
     "output_type": "stream",
     "text": [
      "Message was created!\n",
      "Document was generated by gemini-pro\n"
     ]
    }
   ],
   "source": [
    "from dotenv import dotenv_values\n",
    "\n",
    "config = dotenv_values(\".env\")\n",
    "\n",
    "model = Gemini(config.get(\"GEMINI_API_KEY\"))\n",
    "\n",
    "response = model.send_message(\"O que é uma IA?\")"
   ]
  },
  {
   "cell_type": "code",
   "execution_count": 12,
   "metadata": {},
   "outputs": [
    {
     "data": {
      "text/plain": [
       "'**Inteligência Artificial (IA)**\\n\\nInteligência Artificial (IA) refere-se à capacidade de máquinas ou computadores de demonstrar comportamento semelhante à inteligência humana, como aprendizagem, resolução de problemas, tomada de decisão e reconhecimento de fala ou imagem.\\n\\n**Características da IA:**\\n\\n* **Aprendizado de Máquina:** Capacidade de aprender com dados e melhorar seu desempenho sem ser explicitamente programado.\\n* **Processamento de Linguagem Natural (PNL):** Capacidade de entender e gerar linguagem humana.\\n* **Visão Computacional:** Capacidade de \"ver\" e interpretar imagens e vídeos.\\n* **Tomada de Decisão Automática:** Capacidade de tomar decisões com base em informações disponíveis.\\n* **Resolução de Problemas:** Capacidade de identificar problemas e encontrar soluções apropriadas.\\n* **Adaptabilidade:** Capacidade de ajustar-se a novos dados e ambientes.\\n\\n**Tipos de IA:**\\n\\n* **IA Simbólica:** Baseada em regras e lógica, simulando o raciocínio humano.\\n* **Aprendizado de Máquina:** Usa algoritmos para identificar padrões em dados e fazer previsões.\\n* **Aprendizado Profundo:** Um subcampo do aprendizado de máquina que usa redes neurais artificiais para processar dados complexos.\\n* **IA Cognitiva:** Simula processos cognitivos humanos, como memória, atenção e resolução de problemas.\\n* **IA de Comportamento:** Focada na construção de agentes autônomos que podem navegar e interagir com o ambiente.\\n\\n**Aplicações da IA:**\\n\\nAs aplicações da IA são amplas, incluindo:\\n\\n* Assistentes pessoais digitais\\n* Diagnóstico e tratamento médico\\n* Carros autônomos\\n* Processamento de imagem e vídeo\\n* Análise de mercado e previsão\\n* Atendimento ao cliente\\n* Pesquisa e desenvolvimento'"
      ]
     },
     "execution_count": 12,
     "metadata": {},
     "output_type": "execute_result"
    }
   ],
   "source": [
    "response"
   ]
  }
 ],
 "metadata": {
  "kernelspec": {
   "display_name": "Python 3",
   "language": "python",
   "name": "python3"
  },
  "language_info": {
   "codemirror_mode": {
    "name": "ipython",
    "version": 3
   },
   "file_extension": ".py",
   "mimetype": "text/x-python",
   "name": "python",
   "nbconvert_exporter": "python",
   "pygments_lexer": "ipython3",
   "version": "3.10.12"
  }
 },
 "nbformat": 4,
 "nbformat_minor": 2
}
